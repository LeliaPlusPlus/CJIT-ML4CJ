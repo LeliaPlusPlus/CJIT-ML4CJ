{
 "cells": [
  {
   "cell_type": "markdown",
   "id": "28a9ee14-5af0-4884-9013-4db0165780e9",
   "metadata": {},
   "source": [
    "# Data Exploration\n",
    "\n",
    "In this notebook, we demonstrate how to use some data exploration tools in Python, using the Climate and Economic Justice Screening Tool data. We will cover descriptive statistics, histograms, scatter plots, joint plots, and Spearman correlation."
   ]
  },
  {
   "cell_type": "code",
   "execution_count": 1,
   "id": "c055b121-6025-42de-884c-8cfc8b988245",
   "metadata": {},
   "outputs": [],
   "source": [
    "import pandas as pd\n",
    "import matplotlib.pyplot as plt\n",
    "import numpy as np\n",
    "import seaborn as sns\n",
    "\n",
    "pd.set_option('display.max_columns', None)\n",
    "pd.set_option('display.max_rows', None)"
   ]
  },
  {
   "cell_type": "code",
   "execution_count": 2,
   "id": "b272b3fe-0beb-492b-a960-e11992341f83",
   "metadata": {},
   "outputs": [],
   "source": [
    "cej_cols = ['Percent Black or African American alone', 'Percent Hispanic or Latino', 'Percent White',\n",
    "'Percent of individuals < 100% Federal Poverty Line',\n",
    "'Share of properties at risk of flood in 30 years',\n",
    "\"Share of the tract's land area that is covered by impervious surface or cropland as a percent\",\n",
    "'Percent pre-1960s housing (lead paint indicator)']"
   ]
  },
  {
   "cell_type": "code",
   "execution_count": 3,
   "id": "7cb13c00-067b-486a-968a-6c6771cfff6c",
   "metadata": {},
   "outputs": [],
   "source": [
    "data = pd.read_csv('cejst.csv', usecols=cej_cols)"
   ]
  },
  {
   "cell_type": "code",
   "execution_count": 4,
   "id": "f50a20a8-0204-4507-aa05-44c4c8d7531e",
   "metadata": {},
   "outputs": [],
   "source": [
    "new_cols = ['Black %', 'Hispanic/Latino %', 'White %', 'Below Poverty %', \n",
    "            'Flood Property Risk %', 'Impervious Surface %', 'Older Housing %']"
   ]
  },
  {
   "cell_type": "code",
   "execution_count": 5,
   "id": "a4620c70-cd1b-48e1-8e2c-a6d87883bfbe",
   "metadata": {},
   "outputs": [],
   "source": [
    "data.rename(columns=dict(zip(cej_cols, new_cols)), inplace=True)"
   ]
  },
  {
   "cell_type": "code",
   "execution_count": 6,
   "id": "fde57d6c-2441-45ef-952f-69ecd4ab910f",
   "metadata": {},
   "outputs": [],
   "source": [
    "# Fixing a bug in CEJST data\n",
    "data['Impervious Surface %'] = data['Impervious Surface %'] / 100"
   ]
  },
  {
   "cell_type": "code",
   "execution_count": 7,
   "id": "ca1137a2-2188-4e0f-86c9-c3f36b00272c",
   "metadata": {},
   "outputs": [
    {
     "data": {
      "text/html": [
       "<div>\n",
       "<style scoped>\n",
       "    .dataframe tbody tr th:only-of-type {\n",
       "        vertical-align: middle;\n",
       "    }\n",
       "\n",
       "    .dataframe tbody tr th {\n",
       "        vertical-align: top;\n",
       "    }\n",
       "\n",
       "    .dataframe thead th {\n",
       "        text-align: right;\n",
       "    }\n",
       "</style>\n",
       "<table border=\"1\" class=\"dataframe\">\n",
       "  <thead>\n",
       "    <tr style=\"text-align: right;\">\n",
       "      <th></th>\n",
       "      <th>Black %</th>\n",
       "      <th>White %</th>\n",
       "      <th>Hispanic/Latino %</th>\n",
       "      <th>Flood Property Risk %</th>\n",
       "      <th>Older Housing %</th>\n",
       "      <th>Impervious Surface %</th>\n",
       "      <th>Below Poverty %</th>\n",
       "    </tr>\n",
       "  </thead>\n",
       "  <tbody>\n",
       "    <tr>\n",
       "      <th>0</th>\n",
       "      <td>0.07</td>\n",
       "      <td>0.83</td>\n",
       "      <td>0.01</td>\n",
       "      <td>22.0</td>\n",
       "      <td>17.0</td>\n",
       "      <td>7.60</td>\n",
       "      <td>16.0</td>\n",
       "    </tr>\n",
       "    <tr>\n",
       "      <th>1</th>\n",
       "      <td>0.57</td>\n",
       "      <td>0.38</td>\n",
       "      <td>0.01</td>\n",
       "      <td>25.0</td>\n",
       "      <td>19.0</td>\n",
       "      <td>20.58</td>\n",
       "      <td>19.0</td>\n",
       "    </tr>\n",
       "    <tr>\n",
       "      <th>2</th>\n",
       "      <td>0.24</td>\n",
       "      <td>0.65</td>\n",
       "      <td>0.06</td>\n",
       "      <td>7.0</td>\n",
       "      <td>5.0</td>\n",
       "      <td>23.53</td>\n",
       "      <td>17.0</td>\n",
       "    </tr>\n",
       "    <tr>\n",
       "      <th>3</th>\n",
       "      <td>0.05</td>\n",
       "      <td>0.89</td>\n",
       "      <td>0.01</td>\n",
       "      <td>9.0</td>\n",
       "      <td>11.0</td>\n",
       "      <td>23.33</td>\n",
       "      <td>4.0</td>\n",
       "    </tr>\n",
       "    <tr>\n",
       "      <th>4</th>\n",
       "      <td>0.18</td>\n",
       "      <td>0.70</td>\n",
       "      <td>0.04</td>\n",
       "      <td>3.0</td>\n",
       "      <td>0.0</td>\n",
       "      <td>39.55</td>\n",
       "      <td>15.0</td>\n",
       "    </tr>\n",
       "  </tbody>\n",
       "</table>\n",
       "</div>"
      ],
      "text/plain": [
       "   Black %  White %  Hispanic/Latino %  Flood Property Risk %  \\\n",
       "0     0.07     0.83               0.01                   22.0   \n",
       "1     0.57     0.38               0.01                   25.0   \n",
       "2     0.24     0.65               0.06                    7.0   \n",
       "3     0.05     0.89               0.01                    9.0   \n",
       "4     0.18     0.70               0.04                    3.0   \n",
       "\n",
       "   Older Housing %  Impervious Surface %  Below Poverty %  \n",
       "0             17.0                  7.60             16.0  \n",
       "1             19.0                 20.58             19.0  \n",
       "2              5.0                 23.53             17.0  \n",
       "3             11.0                 23.33              4.0  \n",
       "4              0.0                 39.55             15.0  "
      ]
     },
     "execution_count": 7,
     "metadata": {},
     "output_type": "execute_result"
    }
   ],
   "source": [
    "data.head()"
   ]
  },
  {
   "cell_type": "markdown",
   "id": "ac8ef0eb-caf7-4172-8b28-689ce0c32276",
   "metadata": {},
   "source": [
    "## Descriptive Statistics \n",
    "Compute the descriptive statistics of the study variables to see the central tendencies of the data. You can use the [describe()](https://pandas.pydata.org/docs/reference/api/pandas.DataFrame.describe.html) function in pandas."
   ]
  },
  {
   "cell_type": "code",
   "execution_count": 8,
   "id": "7aecf8f0-00c5-4743-9dde-09ab42606878",
   "metadata": {},
   "outputs": [
    {
     "data": {
      "text/html": [
       "<div>\n",
       "<style scoped>\n",
       "    .dataframe tbody tr th:only-of-type {\n",
       "        vertical-align: middle;\n",
       "    }\n",
       "\n",
       "    .dataframe tbody tr th {\n",
       "        vertical-align: top;\n",
       "    }\n",
       "\n",
       "    .dataframe thead th {\n",
       "        text-align: right;\n",
       "    }\n",
       "</style>\n",
       "<table border=\"1\" class=\"dataframe\">\n",
       "  <thead>\n",
       "    <tr style=\"text-align: right;\">\n",
       "      <th></th>\n",
       "      <th>Black %</th>\n",
       "      <th>White %</th>\n",
       "      <th>Hispanic/Latino %</th>\n",
       "      <th>Flood Property Risk %</th>\n",
       "      <th>Older Housing %</th>\n",
       "      <th>Impervious Surface %</th>\n",
       "      <th>Below Poverty %</th>\n",
       "    </tr>\n",
       "  </thead>\n",
       "  <tbody>\n",
       "    <tr>\n",
       "      <th>count</th>\n",
       "      <td>73389.000000</td>\n",
       "      <td>73390.000000</td>\n",
       "      <td>73387.000000</td>\n",
       "      <td>73338.000000</td>\n",
       "      <td>73976.000000</td>\n",
       "      <td>72539.000000</td>\n",
       "      <td>73124.000000</td>\n",
       "    </tr>\n",
       "    <tr>\n",
       "      <th>mean</th>\n",
       "      <td>0.134117</td>\n",
       "      <td>0.600003</td>\n",
       "      <td>0.171781</td>\n",
       "      <td>12.005972</td>\n",
       "      <td>30.822118</td>\n",
       "      <td>38.938970</td>\n",
       "      <td>14.522756</td>\n",
       "    </tr>\n",
       "    <tr>\n",
       "      <th>std</th>\n",
       "      <td>0.216695</td>\n",
       "      <td>0.305386</td>\n",
       "      <td>0.231250</td>\n",
       "      <td>16.552681</td>\n",
       "      <td>26.617895</td>\n",
       "      <td>23.460262</td>\n",
       "      <td>12.143650</td>\n",
       "    </tr>\n",
       "    <tr>\n",
       "      <th>min</th>\n",
       "      <td>0.000000</td>\n",
       "      <td>0.000000</td>\n",
       "      <td>0.000000</td>\n",
       "      <td>0.000000</td>\n",
       "      <td>0.000000</td>\n",
       "      <td>0.000000</td>\n",
       "      <td>0.000000</td>\n",
       "    </tr>\n",
       "    <tr>\n",
       "      <th>25%</th>\n",
       "      <td>0.010000</td>\n",
       "      <td>0.360000</td>\n",
       "      <td>0.020000</td>\n",
       "      <td>3.000000</td>\n",
       "      <td>7.000000</td>\n",
       "      <td>19.760000</td>\n",
       "      <td>6.000000</td>\n",
       "    </tr>\n",
       "    <tr>\n",
       "      <th>50%</th>\n",
       "      <td>0.040000</td>\n",
       "      <td>0.680000</td>\n",
       "      <td>0.070000</td>\n",
       "      <td>7.000000</td>\n",
       "      <td>24.000000</td>\n",
       "      <td>38.190000</td>\n",
       "      <td>11.000000</td>\n",
       "    </tr>\n",
       "    <tr>\n",
       "      <th>75%</th>\n",
       "      <td>0.150000</td>\n",
       "      <td>0.860000</td>\n",
       "      <td>0.210000</td>\n",
       "      <td>13.000000</td>\n",
       "      <td>50.000000</td>\n",
       "      <td>56.100000</td>\n",
       "      <td>20.000000</td>\n",
       "    </tr>\n",
       "    <tr>\n",
       "      <th>max</th>\n",
       "      <td>1.000000</td>\n",
       "      <td>1.000000</td>\n",
       "      <td>1.000000</td>\n",
       "      <td>100.000000</td>\n",
       "      <td>100.000000</td>\n",
       "      <td>98.460000</td>\n",
       "      <td>100.000000</td>\n",
       "    </tr>\n",
       "  </tbody>\n",
       "</table>\n",
       "</div>"
      ],
      "text/plain": [
       "            Black %       White %  Hispanic/Latino %  Flood Property Risk %  \\\n",
       "count  73389.000000  73390.000000       73387.000000           73338.000000   \n",
       "mean       0.134117      0.600003           0.171781              12.005972   \n",
       "std        0.216695      0.305386           0.231250              16.552681   \n",
       "min        0.000000      0.000000           0.000000               0.000000   \n",
       "25%        0.010000      0.360000           0.020000               3.000000   \n",
       "50%        0.040000      0.680000           0.070000               7.000000   \n",
       "75%        0.150000      0.860000           0.210000              13.000000   \n",
       "max        1.000000      1.000000           1.000000             100.000000   \n",
       "\n",
       "       Older Housing %  Impervious Surface %  Below Poverty %  \n",
       "count     73976.000000          72539.000000     73124.000000  \n",
       "mean         30.822118             38.938970        14.522756  \n",
       "std          26.617895             23.460262        12.143650  \n",
       "min           0.000000              0.000000         0.000000  \n",
       "25%           7.000000             19.760000         6.000000  \n",
       "50%          24.000000             38.190000        11.000000  \n",
       "75%          50.000000             56.100000        20.000000  \n",
       "max         100.000000             98.460000       100.000000  "
      ]
     },
     "execution_count": 8,
     "metadata": {},
     "output_type": "execute_result"
    }
   ],
   "source": [
    "data.describe()"
   ]
  },
  {
   "cell_type": "code",
   "execution_count": 9,
   "id": "d8c99f71-937c-4788-8153-92bf2e94523f",
   "metadata": {},
   "outputs": [
    {
     "data": {
      "text/plain": [
       "<Axes: >"
      ]
     },
     "execution_count": 9,
     "metadata": {},
     "output_type": "execute_result"
    },
    {
     "data": {
      "image/png": "[encoded data removed]",
      "text/plain": [
       "<Figure size 1008x360 with 1 Axes>"
      ]
     },
     "metadata": {
      "needs_background": "light"
     },
     "output_type": "display_data"
    }
   ],
   "source": [
    "fig, ax = plt.subplots(figsize=(14,5))\n",
    "sns.boxplot(data=data, ax=ax)"
   ]
  },
  {
   "cell_type": "markdown",
   "id": "ea352cbb-020d-45f7-98dc-520ae8365cc9",
   "metadata": {},
   "source": [
    "## Histograms \n",
    "Create histograms for each variable. I suggest [seaborn](https://seaborn.pydata.org/generated/seaborn.histplot.html)."
   ]
  },
  {
   "cell_type": "code",
   "execution_count": 10,
   "id": "e963ed91-90b2-475c-b0a5-4b278f55ea79",
   "metadata": {},
   "outputs": [
    {
     "data": {
      "image/png": "[encoded data removed]",
      "text/plain": [
       "<Figure size 1152x288 with 7 Axes>"
      ]
     },
     "metadata": {
      "needs_background": "light"
     },
     "output_type": "display_data"
    }
   ],
   "source": [
    "fig, axes = plt.subplots(nrows=1, ncols=7, figsize=(16,4), constrained_layout=True)\n",
    "\n",
    "for k, ax in enumerate(axes.flatten()):\n",
    "    sns.histplot(data=data, x=data[new_cols[k]], ax=ax, color='orchid')"
   ]
  },
  {
   "cell_type": "markdown",
   "id": "6330bb2a-a345-4f44-844f-85292649b678",
   "metadata": {},
   "source": [
    "## Scatter Plots"
   ]
  },
  {
   "cell_type": "code",
   "execution_count": null,
   "id": "af2c7e30-c935-480b-92ce-7745baf0341d",
   "metadata": {},
   "outputs": [
    {
     "data": {
      "text/plain": [
       "<matplotlib.colorbar.Colorbar at 0x7fb10abb6250>"
      ]
     },
     "execution_count": 11,
     "metadata": {},
     "output_type": "execute_result"
    }
   ],
   "source": [
    "nrows, ncols = 2, 4\n",
    "env = ['Impervious Surface %', 'Older Housing %']\n",
    "demo = ['Below Poverty %', 'Black %', 'Hispanic/Latino %', 'White %']\n",
    "fig, axes = plt.subplots(nrows=nrows, ncols=ncols, figsize=(14,12), constrained_layout=True)\n",
    "for i in range(4):\n",
    "    for j in range(2):\n",
    "        ax1 = axes[j,i].scatter(x=data[demo[i]], y=data[env[j]], c=data['Flood Property Risk %'], s=0.25)\n",
    "\n",
    "for a in range(nrows):\n",
    "    axes[a,0].set_ylabel(env[a])\n",
    "for b in range(ncols):\n",
    "    axes[-1,b].set_xlabel(demo[b])\n",
    "fig.colorbar(ax1, ax=axes[:, -1], label='Flood Property Risk %', location='right')"
   ]
  },
  {
   "cell_type": "code",
   "execution_count": null,
   "id": "fd119a64-7960-4ee1-b8e9-6562bb19eab9",
   "metadata": {},
   "outputs": [],
   "source": [
    "sns.jointplot(data=data, x='Below Poverty %', y='Impervious Surface %', kind='hex')"
   ]
  },
  {
   "cell_type": "code",
   "execution_count": null,
   "id": "c3233e21-3cf2-4977-a245-5329d8f3f352",
   "metadata": {},
   "outputs": [],
   "source": [
    "sns.jointplot(data=data, x='Below Poverty %', y='Flood Property Risk %', kind='hex')"
   ]
  },
  {
   "cell_type": "markdown",
   "id": "15bc5b3c-2be0-47b7-9ae7-f85067f045c8",
   "metadata": {},
   "source": [
    "## Spearman Correlation Analysis\n",
    "Compute a Spearman correlation analysis of the variables. Here, we align Spearman since our model will be non-parametric."
   ]
  },
  {
   "cell_type": "code",
   "execution_count": null,
   "id": "af4fcc00-6d3b-4284-aac8-1a6665c4f409",
   "metadata": {},
   "outputs": [],
   "source": [
    "matrix = data.corr(method='spearman')\n",
    "\n",
    "mask = np.zeros_like(matrix)\n",
    "\n",
    "mask[np.triu_indices_from(mask)] = True\n",
    "\n",
    "fig,ax = plt.subplots(figsize=(8,8))\n",
    "\n",
    "sns.heatmap(matrix, center = 0, square = True, mask=mask, ax=ax, fmt = \".2f\", annot= True, annot_kws={'size': 12},\n",
    "            linecolor='white', linewidths=0.5, xticklabels=False, cmap='coolwarm',\n",
    "            cbar_kws = dict(use_gridspec=False,location=\"bottom\", pad=0.02, shrink=0.8));\n",
    "\n",
    "plt.tick_params(left = False, labelleft=False) \n",
    "\n",
    "for i, label in enumerate(new_cols):\n",
    "    ax.text(i + 0.2, i + 0.6, label, ha='left', va='center', fontsize=14)\n",
    "\n",
    "plt.suptitle(\"Spearman's Rank Correlation Coefficients \\n for Study Variables\", fontsize=14, y=.9)"
   ]
  },
  {
   "cell_type": "code",
   "execution_count": null,
   "id": "36e8f2f6-ad94-4aae-bb0d-49627a29282c",
   "metadata": {},
   "outputs": [],
   "source": [
    "f_cols = ['Black %', 'Hispanic/Latino %', 'White %', 'Below Poverty %', \n",
    "          'Impervious Surface %', 'Older Housing %']\n",
    "fig, ax = plt.subplots(figsize=(7,7))\n",
    "\n",
    "hbars = data[f_cols].corrwith(data['Flood Property Risk %'], method='spearman').sort_values(ascending=True).plot(kind='barh', color='mediumorchid', ax=ax, fontsize=15)\n",
    "hbars.bar_label(ax.containers[0], fmt=\"{:.2f}\", color='white', weight='bold', fontsize=13, padding=-35)\n",
    "\n",
    "plt.suptitle('Demographic and Environmental Correlation \\n with Flood Risk', fontsize=17, y=0.96, weight='bold')\n",
    "plt.tick_params(left = False) "
   ]
  },
  {
   "cell_type": "code",
   "execution_count": null,
   "id": "9462b5b6-69da-47b5-954a-45abc1849343",
   "metadata": {},
   "outputs": [],
   "source": []
  }
 ],
 "metadata": {
  "kernelspec": {
   "display_name": "Python 3",
   "language": "python",
   "name": "python3"
  },
  "language_info": {
   "codemirror_mode": {
    "name": "ipython",
    "version": 3
   },
   "file_extension": ".py",
   "mimetype": "text/x-python",
   "name": "python",
   "nbconvert_exporter": "python",
   "pygments_lexer": "ipython3",
   "version": "3.8.8"
  }
 },
 "nbformat": 4,
 "nbformat_minor": 5
}
